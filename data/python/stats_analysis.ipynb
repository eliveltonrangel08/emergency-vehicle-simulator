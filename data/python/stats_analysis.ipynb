{
 "cells": [
  {
   "cell_type": "code",
   "execution_count": 1,
   "metadata": {
    "collapsed": true
   },
   "outputs": [],
   "source": [
    "import pandas as pd\n",
    "import numpy as np\n",
    "import matplotlib.pyplot as plt\n",
    "import re\n",
    "\n",
    "%matplotlib inline"
   ]
  },
  {
   "cell_type": "code",
   "execution_count": 22,
   "outputs": [],
   "source": [
    "file='/home/elivelton/UFBA/simulator/docker-veins-v4/data/ev_sbesc/ev_sbesc/examples/ev_sbesc/results/analysis_file.csv'"
   ],
   "metadata": {
    "collapsed": false,
    "pycharm": {
     "name": "#%%\n"
    }
   }
  },
  {
   "cell_type": "code",
   "execution_count": 23,
   "outputs": [],
   "source": [
    "dataset = pd.read_csv(file)"
   ],
   "metadata": {
    "collapsed": false,
    "pycharm": {
     "name": "#%%\n"
    }
   }
  },
  {
   "cell_type": "code",
   "execution_count": 4,
   "outputs": [
    {
     "data": {
      "text/plain": "                                           run    type  \\\n8748  WithoutControl-0-20210813-16:19:10-22585    attr   \n8749  WithoutControl-0-20210813-16:19:10-22585  scalar   \n8750  WithoutControl-0-20210813-16:19:10-22585    attr   \n8751  WithoutControl-0-20210813-16:19:10-22585  scalar   \n8752  WithoutControl-0-20210813-16:19:10-22585    attr   \n\n                                    module                 name attrname  \\\n8748  DefaultScenario.rsu[8].nic.mac1609_4    sentPackets:count   source   \n8749  DefaultScenario.rsu[8].nic.mac1609_4     collisions:count      NaN   \n8750  DefaultScenario.rsu[8].nic.mac1609_4     collisions:count   source   \n8751  DefaultScenario.rsu[8].nic.mac1609_4  channelBusy:timeavg      NaN   \n8752  DefaultScenario.rsu[8].nic.mac1609_4  channelBusy:timeavg   source   \n\n                                       attrvalue  value  \n8748   org_car2x_veins_modules_mac_sigSentPacket    NaN  \n8749                                         NaN    0.0  \n8750    org_car2x_veins_modules_mac_sigCollision    NaN  \n8751                                         NaN    0.0  \n8752  org_car2x_veins_modules_mac_sigChannelBusy    NaN  ",
      "text/html": "<div>\n<style scoped>\n    .dataframe tbody tr th:only-of-type {\n        vertical-align: middle;\n    }\n\n    .dataframe tbody tr th {\n        vertical-align: top;\n    }\n\n    .dataframe thead th {\n        text-align: right;\n    }\n</style>\n<table border=\"1\" class=\"dataframe\">\n  <thead>\n    <tr style=\"text-align: right;\">\n      <th></th>\n      <th>run</th>\n      <th>type</th>\n      <th>module</th>\n      <th>name</th>\n      <th>attrname</th>\n      <th>attrvalue</th>\n      <th>value</th>\n    </tr>\n  </thead>\n  <tbody>\n    <tr>\n      <th>8748</th>\n      <td>WithoutControl-0-20210813-16:19:10-22585</td>\n      <td>attr</td>\n      <td>DefaultScenario.rsu[8].nic.mac1609_4</td>\n      <td>sentPackets:count</td>\n      <td>source</td>\n      <td>org_car2x_veins_modules_mac_sigSentPacket</td>\n      <td>NaN</td>\n    </tr>\n    <tr>\n      <th>8749</th>\n      <td>WithoutControl-0-20210813-16:19:10-22585</td>\n      <td>scalar</td>\n      <td>DefaultScenario.rsu[8].nic.mac1609_4</td>\n      <td>collisions:count</td>\n      <td>NaN</td>\n      <td>NaN</td>\n      <td>0.0</td>\n    </tr>\n    <tr>\n      <th>8750</th>\n      <td>WithoutControl-0-20210813-16:19:10-22585</td>\n      <td>attr</td>\n      <td>DefaultScenario.rsu[8].nic.mac1609_4</td>\n      <td>collisions:count</td>\n      <td>source</td>\n      <td>org_car2x_veins_modules_mac_sigCollision</td>\n      <td>NaN</td>\n    </tr>\n    <tr>\n      <th>8751</th>\n      <td>WithoutControl-0-20210813-16:19:10-22585</td>\n      <td>scalar</td>\n      <td>DefaultScenario.rsu[8].nic.mac1609_4</td>\n      <td>channelBusy:timeavg</td>\n      <td>NaN</td>\n      <td>NaN</td>\n      <td>0.0</td>\n    </tr>\n    <tr>\n      <th>8752</th>\n      <td>WithoutControl-0-20210813-16:19:10-22585</td>\n      <td>attr</td>\n      <td>DefaultScenario.rsu[8].nic.mac1609_4</td>\n      <td>channelBusy:timeavg</td>\n      <td>source</td>\n      <td>org_car2x_veins_modules_mac_sigChannelBusy</td>\n      <td>NaN</td>\n    </tr>\n  </tbody>\n</table>\n</div>"
     },
     "execution_count": 4,
     "metadata": {},
     "output_type": "execute_result"
    }
   ],
   "source": [
    "dataset.tail()"
   ],
   "metadata": {
    "collapsed": false,
    "pycharm": {
     "name": "#%%\n"
    }
   }
  },
  {
   "cell_type": "code",
   "execution_count": null,
   "outputs": [],
   "source": [
    "# pd.set_option('display.width', 180)\n",
    "# pd.set_option('display.max_colwidth', 100)"
   ],
   "metadata": {
    "collapsed": false,
    "pycharm": {
     "name": "#%%\n"
    }
   }
  },
  {
   "cell_type": "code",
   "execution_count": 24,
   "outputs": [],
   "source": [
    "ds_with = dataset[(dataset['type'] == 'scalar') & (dataset['run'] == dataset['run'].unique()[0])]\n",
    "ds_without = dataset[(dataset['type'] == 'scalar') &  (dataset['run'] == dataset['run'].unique()[1])]"
   ],
   "metadata": {
    "collapsed": false,
    "pycharm": {
     "name": "#%%\n"
    }
   }
  },
  {
   "cell_type": "code",
   "execution_count": 25,
   "outputs": [],
   "source": [
    "ds_with_plot = ds_with[ds_with['module'].str.contains('veinsmobility')]\n",
    "ds_without_plot = ds_without[ds_without['module'].str.contains('veinsmobility')]"
   ],
   "metadata": {
    "collapsed": false,
    "pycharm": {
     "name": "#%%\n"
    }
   }
  },
  {
   "cell_type": "code",
   "execution_count": 26,
   "outputs": [],
   "source": [
    "ds_with_plot = ds_with_plot[['module', 'name', 'value']]\n",
    "ds_without_plot = ds_without_plot[['module', 'name', 'value']]"
   ],
   "metadata": {
    "collapsed": false,
    "pycharm": {
     "name": "#%%\n"
    }
   }
  },
  {
   "cell_type": "code",
   "execution_count": 27,
   "outputs": [],
   "source": [
    "ev_with = ds_with_plot[ds_with_plot['module'].str.contains('evNode')]\n",
    "ev_without = ds_without_plot[ds_without_plot['module'].str.contains('evNode')]"
   ],
   "metadata": {
    "collapsed": false,
    "pycharm": {
     "name": "#%%\n"
    }
   }
  },
  {
   "cell_type": "code",
   "execution_count": 28,
   "outputs": [],
   "source": [
    "general_with = pd.concat([ds_with_plot, ev_with]).drop_duplicates(keep=False)\n",
    "general_without = pd.concat([ds_without_plot, ev_without]).drop_duplicates(keep=False)"
   ],
   "metadata": {
    "collapsed": false,
    "pycharm": {
     "name": "#%%\n"
    }
   }
  },
  {
   "cell_type": "code",
   "execution_count": 71,
   "outputs": [],
   "source": [
    "def replace_ev_nodes(module_name):\n",
    "    if 'veinsmobility' in module_name:\n",
    "        return re.search('Scenario.evNode(.+?).veinsmobility', module_name).group(1)\n",
    "    return module_name\n",
    "def replace_nodes(module_name):\n",
    "    if 'veinsmobility' in module_name:\n",
    "        return re.search('Scenario.node(.+?).veinsmobility', module_name).group(1)\n",
    "    return module_name\n",
    "\n",
    "def get_ds_to_plot(ds_with, ds_without, withModule=False, method=replace_ev_nodes):\n",
    "    keys = 'name'\n",
    "    if withModule:\n",
    "        keys = ['module', 'name']\n",
    "        ds_with['module'] = ds_with['module'].apply(method)\n",
    "        ds_without['module'] = ds_without['module'].apply(method)\n",
    "    ds = pd.merge(ds_with, ds_without, how='inner', on=keys)\n",
    "    ds = ds.rename(columns={'value_x': 'with optimization', 'value_y': 'without optimization'})\n",
    "    ds = ds[ds['name'] != 'totalDistance']\n",
    "\n",
    "    if withModule:\n",
    "        # ds['module'] = ds['module'] + '.' + ds['name']\n",
    "        ds = ds.set_index(['module'])\n",
    "    else:\n",
    "        ds = ds.set_index('name')\n",
    "    return ds\n",
    "\n",
    "\n",
    "def plot_chart(df):\n",
    "    ax = df.plot(kind='bar', grid=True, rot=0)\n",
    "    # ax.axes.get_xaxis().set_ticks([])\n",
    "    # ax.axes.get_xaxis().set_visible(False)\n",
    "    # ax.set_xlabel(\"EV nodes\")\n",
    "    ax.set_ylabel(\"Total travel time (in seconds)\")\n",
    "    # ax.set_ylabel(\"Total CO2 emission\")"
   ],
   "metadata": {
    "collapsed": false,
    "pycharm": {
     "name": "#%%\n"
    }
   }
  },
  {
   "cell_type": "code",
   "execution_count": 105,
   "outputs": [],
   "source": [
    "items = ['totalTime', 'totalCO2Emission']\n",
    "\n",
    "module = 'totalTime'"
   ],
   "metadata": {
    "collapsed": false,
    "pycharm": {
     "name": "#%%\n"
    }
   }
  },
  {
   "cell_type": "code",
   "execution_count": 112,
   "outputs": [
    {
     "data": {
      "text/plain": "<Figure size 432x288 with 1 Axes>",
      "image/png": "[encoded data removed]"
     },
     "metadata": {
      "needs_background": "light"
     },
     "output_type": "display_data"
    }
   ],
   "source": [
    "ev_with_mean = ev_with.drop(columns=['module']).groupby(by=['name'], as_index=False).mean()\n",
    "ev_with_mean = ev_with_mean[ev_with_mean['name'] == module]\n",
    "ev_without_mean = ev_without.drop(columns=['module']).groupby(by=['name'], as_index=False).mean()\n",
    "\n",
    "df_plot_mean = get_ds_to_plot(ev_with_mean, ev_without_mean)\n",
    "plot_chart(df_plot_mean)"
   ],
   "metadata": {
    "collapsed": false,
    "pycharm": {
     "name": "#%%\n"
    }
   }
  },
  {
   "cell_type": "code",
   "execution_count": 107,
   "outputs": [
    {
     "name": "stderr",
     "output_type": "stream",
     "text": [
      "<ipython-input-71-947902aeb5d3>:14: SettingWithCopyWarning: \n",
      "A value is trying to be set on a copy of a slice from a DataFrame.\n",
      "Try using .loc[row_indexer,col_indexer] = value instead\n",
      "\n",
      "See the caveats in the documentation: https://pandas.pydata.org/pandas-docs/stable/user_guide/indexing.html#returning-a-view-versus-a-copy\n",
      "  ds_with['module'] = ds_with['module'].apply(method)\n",
      "<ipython-input-71-947902aeb5d3>:15: SettingWithCopyWarning: \n",
      "A value is trying to be set on a copy of a slice from a DataFrame.\n",
      "Try using .loc[row_indexer,col_indexer] = value instead\n",
      "\n",
      "See the caveats in the documentation: https://pandas.pydata.org/pandas-docs/stable/user_guide/indexing.html#returning-a-view-versus-a-copy\n",
      "  ds_without['module'] = ds_without['module'].apply(method)\n"
     ]
    },
    {
     "data": {
      "text/plain": "<Figure size 432x288 with 1 Axes>",
      "image/png": "[encoded data removed]"
     },
     "metadata": {
      "needs_background": "light"
     },
     "output_type": "display_data"
    }
   ],
   "source": [
    "ev_with_tt = ev_with[ev_with['name'] == 'totalTime']\n",
    "ev_without_tt = ev_without[ev_without['name'] == module]\n",
    "df_plot = get_ds_to_plot(ev_with_tt, ev_without_tt, withModule=True)\n",
    "plot_chart(df_plot)"
   ],
   "metadata": {
    "collapsed": false,
    "pycharm": {
     "name": "#%%\n"
    }
   }
  },
  {
   "cell_type": "code",
   "execution_count": 108,
   "outputs": [
    {
     "data": {
      "text/plain": "<Figure size 432x288 with 1 Axes>",
      "image/png": "[encoded data removed]"
     },
     "metadata": {
      "needs_background": "light"
     },
     "output_type": "display_data"
    }
   ],
   "source": [
    "general_with_mean = general_with.drop(columns=['module']).groupby(by=['name'], as_index=False).mean()\n",
    "general_without_mean = general_without.drop(columns=['module']).groupby(by=['name'], as_index=False).mean()\n",
    "general_without_mean = general_without_mean[general_without_mean['name'] == module]\n",
    "df_plot_mean_g = get_ds_to_plot(general_with_mean, general_without_mean)\n",
    "plot_chart(df_plot_mean_g)"
   ],
   "metadata": {
    "collapsed": false,
    "pycharm": {
     "name": "#%%\n"
    }
   }
  },
  {
   "cell_type": "code",
   "execution_count": 33,
   "outputs": [
    {
     "data": {
      "text/plain": "<Figure size 432x288 with 1 Axes>",
      "image/png": "[encoded data removed]"
     },
     "metadata": {
      "needs_background": "light"
     },
     "output_type": "display_data"
    }
   ],
   "source": [
    "df_plot_g = get_ds_to_plot(general_with, general_without, withModule=True, method=replace_nodes)\n",
    "plot_chart(df_plot_g)"
   ],
   "metadata": {
    "collapsed": false,
    "pycharm": {
     "name": "#%%\n"
    }
   }
  },
  {
   "cell_type": "code",
   "execution_count": 115,
   "outputs": [],
   "source": [
    "\n",
    "dm1 = df_plot_mean\n",
    "dm2 = df_plot_mean_g\n",
    "\n",
    "# dm1 = dm1.rename(columns={'totalTime': 'with optimization'})\n",
    "\n",
    "# dm = pd.merge(dm1, dm2, how='inner', on='name')\n",
    "# dm"
   ],
   "metadata": {
    "collapsed": false,
    "pycharm": {
     "name": "#%%\n"
    }
   }
  },
  {
   "cell_type": "code",
   "execution_count": 116,
   "outputs": [
    {
     "data": {
      "text/plain": "      with optimization  without optimization\nname                                         \nEV            72.166667            111.166667",
      "text/html": "<div>\n<style scoped>\n    .dataframe tbody tr th:only-of-type {\n        vertical-align: middle;\n    }\n\n    .dataframe tbody tr th {\n        vertical-align: top;\n    }\n\n    .dataframe thead th {\n        text-align: right;\n    }\n</style>\n<table border=\"1\" class=\"dataframe\">\n  <thead>\n    <tr style=\"text-align: right;\">\n      <th></th>\n      <th>with optimization</th>\n      <th>without optimization</th>\n    </tr>\n    <tr>\n      <th>name</th>\n      <th></th>\n      <th></th>\n    </tr>\n  </thead>\n  <tbody>\n    <tr>\n      <th>EV</th>\n      <td>72.166667</td>\n      <td>111.166667</td>\n    </tr>\n  </tbody>\n</table>\n</div>"
     },
     "execution_count": 116,
     "metadata": {},
     "output_type": "execute_result"
    }
   ],
   "source": [
    "dm1 = dm1.rename(index={module:'EV'})\n",
    "dm1"
   ],
   "metadata": {
    "collapsed": false,
    "pycharm": {
     "name": "#%%\n"
    }
   }
  },
  {
   "cell_type": "code",
   "execution_count": 117,
   "outputs": [
    {
     "data": {
      "text/plain": "           with optimization  without optimization\nname                                              \nPassenger             111.46                125.12",
      "text/html": "<div>\n<style scoped>\n    .dataframe tbody tr th:only-of-type {\n        vertical-align: middle;\n    }\n\n    .dataframe tbody tr th {\n        vertical-align: top;\n    }\n\n    .dataframe thead th {\n        text-align: right;\n    }\n</style>\n<table border=\"1\" class=\"dataframe\">\n  <thead>\n    <tr style=\"text-align: right;\">\n      <th></th>\n      <th>with optimization</th>\n      <th>without optimization</th>\n    </tr>\n    <tr>\n      <th>name</th>\n      <th></th>\n      <th></th>\n    </tr>\n  </thead>\n  <tbody>\n    <tr>\n      <th>Passenger</th>\n      <td>111.46</td>\n      <td>125.12</td>\n    </tr>\n  </tbody>\n</table>\n</div>"
     },
     "execution_count": 117,
     "metadata": {},
     "output_type": "execute_result"
    }
   ],
   "source": [
    "dm2 = dm2.rename(index={module:'Passenger'})\n",
    "dm2"
   ],
   "metadata": {
    "collapsed": false,
    "pycharm": {
     "name": "#%%\n"
    }
   }
  },
  {
   "cell_type": "code",
   "execution_count": 118,
   "outputs": [
    {
     "data": {
      "text/plain": "           with optimization  without optimization\nname                                              \nEV                 72.166667            111.166667\nPassenger         111.460000            125.120000",
      "text/html": "<div>\n<style scoped>\n    .dataframe tbody tr th:only-of-type {\n        vertical-align: middle;\n    }\n\n    .dataframe tbody tr th {\n        vertical-align: top;\n    }\n\n    .dataframe thead th {\n        text-align: right;\n    }\n</style>\n<table border=\"1\" class=\"dataframe\">\n  <thead>\n    <tr style=\"text-align: right;\">\n      <th></th>\n      <th>with optimization</th>\n      <th>without optimization</th>\n    </tr>\n    <tr>\n      <th>name</th>\n      <th></th>\n      <th></th>\n    </tr>\n  </thead>\n  <tbody>\n    <tr>\n      <th>EV</th>\n      <td>72.166667</td>\n      <td>111.166667</td>\n    </tr>\n    <tr>\n      <th>Passenger</th>\n      <td>111.460000</td>\n      <td>125.120000</td>\n    </tr>\n  </tbody>\n</table>\n</div>"
     },
     "execution_count": 118,
     "metadata": {},
     "output_type": "execute_result"
    }
   ],
   "source": [
    "dm = dm1.append(dm2)\n",
    "dm"
   ],
   "metadata": {
    "collapsed": false,
    "pycharm": {
     "name": "#%%\n"
    }
   }
  },
  {
   "cell_type": "code",
   "execution_count": 98,
   "outputs": [
    {
     "data": {
      "text/plain": "Text(0, 0.5, 'Total CO2 emission')"
     },
     "execution_count": 98,
     "metadata": {},
     "output_type": "execute_result"
    },
    {
     "data": {
      "text/plain": "<Figure size 432x288 with 1 Axes>",
      "image/png": "[encoded data removed]"
     },
     "metadata": {
      "needs_background": "light"
     },
     "output_type": "display_data"
    }
   ],
   "source": [
    "ax = dm.plot(kind='bar', grid=True, rot=0)\n",
    "ax.set_xlabel(\"Vehicle type\")\n",
    "# ax.set_ylabel(\"Total travel time (in seconds)\")\n",
    "ax.set_ylabel(\"Total CO2 emission\")"
   ],
   "metadata": {
    "collapsed": false,
    "pycharm": {
     "name": "#%%\n"
    }
   }
  }
 ],
 "metadata": {
  "kernelspec": {
   "display_name": "Python 3",
   "language": "python",
   "name": "python3"
  },
  "language_info": {
   "codemirror_mode": {
    "name": "ipython",
    "version": 2
   },
   "file_extension": ".py",
   "mimetype": "text/x-python",
   "name": "python",
   "nbconvert_exporter": "python",
   "pygments_lexer": "ipython2",
   "version": "2.7.6"
  }
 },
 "nbformat": 4,
 "nbformat_minor": 0
}