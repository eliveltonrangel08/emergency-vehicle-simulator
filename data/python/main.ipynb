{
 "cells": [
  {
   "cell_type": "code",
   "execution_count": 1,
   "metadata": {
    "collapsed": true
   },
   "outputs": [],
   "source": [
    "# import the library\n",
    "import sumolib\n",
    "import random\n",
    "import traci  # noqa\n",
    "import sys\n",
    "import os"
   ]
  },
  {
   "cell_type": "code",
   "execution_count": 3,
   "outputs": [],
   "source": [
    "DUAROUTER = sumolib.checkBinary('duarouter')"
   ],
   "metadata": {
    "collapsed": false,
    "pycharm": {
     "name": "#%%\n"
    }
   }
  },
  {
   "cell_type": "code",
   "execution_count": 4,
   "outputs": [],
   "source": [
    "class GeoCoordinates:\n",
    "    \"\"\"\n",
    "    \"\"\"\n",
    "\n",
    "    def __init__(self, X=None, Y=None):\n",
    "        self.X = X\n",
    "        self.Y = Y\n",
    "\n",
    "    def getCoordinates(self):\n",
    "        return {\"X\": self.X, \"Y\": self.Y}\n",
    "\n",
    "    def setCoordinates(self, X, Y):\n",
    "        self.X = X\n",
    "        self.Y = Y\n",
    "\n",
    "    def getCoordinatesOSM(self):\n",
    "        return self.Y, self.X"
   ],
   "metadata": {
    "collapsed": false,
    "pycharm": {
     "name": "#%%\n"
    }
   }
  },
  {
   "cell_type": "code",
   "execution_count": 5,
   "outputs": [],
   "source": [
    "class Route:\n",
    "    def __init__(self, from_coord, to_coord, sumo_net):\n",
    "        self.fromCoord = from_coord\n",
    "        self.toCoord = to_coord\n",
    "        self.sumo_net = sumo_net\n",
    "\n",
    "\n",
    "    def getClosestEdge(self, coordinates):\n",
    "        x, y = self.sumo_net.convertLonLat2XY(coordinates.Y, coordinates.X)\n",
    "        edges = net.getNeighboringEdges(x, y, 10)\n",
    "        closest_edge = None\n",
    "        if len(edges) > 0:\n",
    "            distances_and_edges = sorted([(dist, edge) for edge, dist in edges])\n",
    "            dist, closest_edge = distances_and_edges[0]\n",
    "        return closest_edge\n",
    "\n",
    "\n",
    "    def getShortestPath(self):\n",
    "\n",
    "        fromEdge = self.getClosestEdge(self.fromCoord)\n",
    "        toEdge = self.getClosestEdge(self.toCoord)\n",
    "\n",
    "        if fromEdge and toEdge:\n",
    "            return self.sumo_net.getShortestPath(fromEdge, toEdge)\n",
    "        return None\n"
   ],
   "metadata": {
    "collapsed": false,
    "pycharm": {
     "name": "#%%\n"
    }
   }
  },
  {
   "cell_type": "code",
   "execution_count": 6,
   "outputs": [],
   "source": [
    "class Vehicle:\n",
    "    # id=\"typeEVP\" accel=\"0.8\" decel=\"4.5\" sigma=\"0.5\" length=\"5\" minGap=\"3\" maxSpeed=\"30\" guiShape=\"police\"\n",
    "    def __init__(self, guiShape='passenger', id='default', accel=0.8, decel=4.5, sigma=0.5, length=5, minGap=3, maxSpeed=16.67):\n",
    "        self.guiShape = guiShape\n",
    "        self.id = id\n",
    "        self.accel = accel\n",
    "        self.decel = decel\n",
    "        self.sigma = sigma\n",
    "        self.length = length\n",
    "        self.minGap = minGap\n",
    "        self.maxSpeed = maxSpeed\n",
    "\n",
    "    def getSumoTag(self):\n",
    "        return f'   <vType id=\"{self.id}\" guiShape=\"{self.guiShape}\" accel=\"{self.accel}\" decel=\"{self.decel}\" sigma=\"{self.sigma}\" length=\"{self.length}\" minGap=\"{self.minGap}\" maxSpeed=\"{self.maxSpeed}\" />\\n'"
   ],
   "metadata": {
    "collapsed": false,
    "pycharm": {
     "name": "#%%\n"
    }
   }
  },
  {
   "cell_type": "code",
   "execution_count": 7,
   "outputs": [],
   "source": [
    "net = sumolib.net.readNet('../phd_ev/examples/phd_ev/fsa.net.xml/fsa.net.xml')"
   ],
   "metadata": {
    "collapsed": false,
    "pycharm": {
     "name": "#%%\n"
    }
   }
  },
  {
   "cell_type": "code",
   "execution_count": 8,
   "outputs": [],
   "source": [
    "coordinates = [\n",
    "    GeoCoordinates(-12.2630,-38.9475), # Início da PD\n",
    "    GeoCoordinates(-12.2596,-38.9659), # Final da PD\n",
    "    GeoCoordinates(-12.2468,-38.9544), # Maria quitéria NS Início\n",
    "    GeoCoordinates(-12.2684,-38.9553), # Maria quitéria NS Fim\n",
    "    GeoCoordinates(-12.2630,-38.9549), # Maria quitéria SN Início\n",
    "    GeoCoordinates(-12.2489,-38.9543), # Maria quitéria SN Fim\n",
    "    GeoCoordinates(-12.2536,-38.9610),\n",
    "    GeoCoordinates(-12.2609,-38.9494),\n",
    "    GeoCoordinates(-12.2629,-38.9589),\n",
    "    GeoCoordinates(-12.2538,-38.9472),\n",
    "]"
   ],
   "metadata": {
    "collapsed": false,
    "pycharm": {
     "name": "#%%\n"
    }
   }
  },
  {
   "cell_type": "code",
   "execution_count": 9,
   "outputs": [
    {
     "data": {
      "text/plain": "(<edge id=\"34658849#0\" from=\"403261873\" to=\"4954002299\"/>,\n <edge id=\"34658849#1\" from=\"4954002299\" to=\"404421631\"/>,\n <edge id=\"34658849#2\" from=\"404421631\" to=\"403261875\"/>,\n <edge id=\"34658849#3\" from=\"403261875\" to=\"6680732499\"/>,\n <edge id=\"34658849#4\" from=\"6680732499\" to=\"6680732492\"/>,\n <edge id=\"34717023#0\" from=\"6680732492\" to=\"404421710\"/>,\n <edge id=\"34717023#1\" from=\"404421710\" to=\"cluster_403261694_405030298\"/>,\n <edge id=\"172385258#0\" from=\"cluster_403261694_405030298\" to=\"405030335\"/>,\n <edge id=\"172385258#1\" from=\"405030335\" to=\"405030341\"/>,\n <edge id=\"172385258#2\" from=\"405030341\" to=\"405030348\"/>,\n <edge id=\"172385258#3\" from=\"405030348\" to=\"cluster_1832928650_405030295\"/>,\n <edge id=\"155032501#0\" from=\"cluster_1832928650_405030295\" to=\"405030353\"/>,\n <edge id=\"155032501#1\" from=\"405030353\" to=\"405030356\"/>,\n <edge id=\"155032501#2\" from=\"405030356\" to=\"405030392\"/>,\n <edge id=\"155032501#3\" from=\"405030392\" to=\"405030293\"/>,\n <edge id=\"668381497\" from=\"405030293\" to=\"406062508\"/>,\n <edge id=\"34743960#1\" from=\"406062508\" to=\"406062477\"/>,\n <edge id=\"34743960#2\" from=\"406062477\" to=\"406062484\"/>,\n <edge id=\"946259500\" from=\"406062484\" to=\"5258634057\"/>,\n <edge id=\"832600854\" from=\"5258634057\" to=\"403261521\"/>,\n <edge id=\"165666075#0\" from=\"403261521\" to=\"cluster_1674752234_403261491\"/>,\n <edge id=\"165666074#0\" from=\"cluster_1674752234_403261491\" to=\"405013961\"/>,\n <edge id=\"34743987\" from=\"405013961\" to=\"cluster_405013962_405013999\"/>,\n <edge id=\"34743959#13\" from=\"cluster_405013962_405013999\" to=\"405014010\"/>,\n <edge id=\"34743991#0\" from=\"405014010\" to=\"cluster_405014011_405014026\"/>,\n <edge id=\"34743991#2\" from=\"cluster_405014011_405014026\" to=\"405014012\"/>,\n <edge id=\"34743991#3\" from=\"405014012\" to=\"405014013\"/>,\n <edge id=\"34743991#4\" from=\"405014013\" to=\"405014014\"/>,\n <edge id=\"34743991#5\" from=\"405014014\" to=\"405014015\"/>,\n <edge id=\"34743991#6\" from=\"405014015\" to=\"405014016\"/>,\n <edge id=\"34743991#7\" from=\"405014016\" to=\"6677249817\"/>,\n <edge id=\"34743991#8\" from=\"6677249817\" to=\"405014017\"/>,\n <edge id=\"34743991#9\" from=\"405014017\" to=\"6677249824\"/>,\n <edge id=\"34743991#10\" from=\"6677249824\" to=\"405014018\"/>,\n <edge id=\"163759301#9\" from=\"405014018\" to=\"405014202\"/>,\n <edge id=\"163759301#10\" from=\"405014202\" to=\"405014200\"/>,\n <edge id=\"163759301#11\" from=\"405014200\" to=\"405013972\"/>,\n <edge id=\"180958862#0\" from=\"405013972\" to=\"405014054\"/>,\n <edge id=\"180958862#1\" from=\"405014054\" to=\"6677249845\"/>,\n <edge id=\"180958862#2\" from=\"6677249845\" to=\"405014047\"/>,\n <edge id=\"180958862#3\" from=\"405014047\" to=\"cluster_405014039_405014055\"/>,\n <edge id=\"180958862#5\" from=\"cluster_405014039_405014055\" to=\"6677249858\"/>,\n <edge id=\"180958862#6\" from=\"6677249858\" to=\"405014038\"/>,\n <edge id=\"180958862#7\" from=\"405014038\" to=\"405013973\"/>,\n <edge id=\"828142453#1\" from=\"405013973\" to=\"3900537656\"/>,\n <edge id=\"386699910#0\" from=\"3900537656\" to=\"321185320\"/>,\n <edge id=\"443084458\" from=\"321185320\" to=\"321185324\"/>,\n <edge id=\"34658851#1\" from=\"321185324\" to=\"6677249899\"/>)"
     },
     "execution_count": 9,
     "metadata": {},
     "output_type": "execute_result"
    }
   ],
   "source": [
    "route = Route(coordinates[4], coordinates[0], net)\n",
    "\n",
    "route.getShortestPath()[0]"
   ],
   "metadata": {
    "collapsed": false,
    "pycharm": {
     "name": "#%%\n"
    }
   }
  },
  {
   "cell_type": "code",
   "execution_count": 10,
   "outputs": [],
   "source": [
    "vehicles = [\n",
    "    Vehicle(guiShape='emergency', id='v_emergency', maxSpeed=30),\n",
    "    Vehicle(guiShape='firebrigade', id='v_firebrigade', maxSpeed=28, length=7),\n",
    "    Vehicle(guiShape='police', id='v_police', maxSpeed=28),\n",
    "]"
   ],
   "metadata": {
    "collapsed": false,
    "pycharm": {
     "name": "#%%\n"
    }
   }
  },
  {
   "cell_type": "code",
   "execution_count": 11,
   "outputs": [],
   "source": [
    "n_routes = 4\n",
    "n_vehicles = 3600\n",
    "\n",
    "random.seed(4)\n",
    "\n",
    "with open('data/fsa.rou.xml', 'w') as outf:\n",
    "        sumolib.xml.writeHeader(outf, root=\"routes\")\n",
    "        v_id = 0\n",
    "        outf.write(Vehicle(guiShape='passenger', id='v_passenger').getSumoTag())\n",
    "        outf.write(Vehicle(guiShape='bus', id='v_bus', length=10).getSumoTag())\n",
    "        for v in vehicles:\n",
    "            outf.write(v.getSumoTag())\n",
    "\n",
    "        routes = []\n",
    "        main_route = Route(coordinates[0], coordinates[1], net).getShortestPath()\n",
    "        outf.write(f'   <route cost=\"{main_route[1]}\" id=\"0\" edges=\"{\" \".join([e.getID() for e in main_route[0]])}\" />\\n')\n",
    "        for id in range(1, n_routes):\n",
    "            route = Route(random.choice(coordinates), random.choice(coordinates), net).getShortestPath()\n",
    "            if route:\n",
    "                routes.append(route)\n",
    "                outf.write(f'   <route cost=\"{route[1]}\" id=\"{id}\" edges=\"{\" \".join([e.getID() for e in route[0]])}\" />\\n')\n",
    "\n",
    "        vId = 0\n",
    "        for i in range(n_vehicles):\n",
    "            route =  random.randint(0, len(routes)-1)\n",
    "            type = 'passenger'\n",
    "\n",
    "            p_passenger = 1. / 5\n",
    "            p_bus = 1. / 90\n",
    "            p_emergency = 1. / 200\n",
    "\n",
    "            if random.uniform(0, 1) < p_passenger:\n",
    "                outf.write(f'   <vehicle id=\"{vId}\" depart=\"{float(i)}\" route=\"{route}\" type=\"v_passenger\"/>\\n')\n",
    "                vId+=1\n",
    "            if random.uniform(0, 1) < p_emergency:\n",
    "                vehicle = random.choice(vehicles)\n",
    "                outf.write(f'   <vehicle id=\"{vId}\" depart=\"{float(i)}\" route=\"0\" type=\"{vehicle.id}\"/>\\n')\n",
    "                vId+=1\n",
    "            if random.uniform(0, 1) < p_bus:\n",
    "                outf.write(f'   <vehicle id=\"{vId}\" depart=\"{float(i)}\" route=\"{route}\" type=\"v_bus\" color=\"0,1,0\"/>\\n')\n",
    "                vId+=1\n",
    "\n",
    "        outf.write('</routes>\\n')\n"
   ],
   "metadata": {
    "collapsed": false,
    "pycharm": {
     "name": "#%%\n"
    }
   }
  },
  {
   "cell_type": "code",
   "execution_count": 12,
   "outputs": [],
   "source": [
    "sumo_home = os.environ['SUMO_HOME'] = os.path.join('/opt', 'sumo')\n",
    "sys.path.append(sumo_home)\n",
    "sys.path.append(os.path.join(sumo_home, 'bin'))\n",
    "sumoBinary = sumolib.checkBinary('sumo-gui')"
   ],
   "metadata": {
    "collapsed": false,
    "pycharm": {
     "name": "#%%\n"
    }
   }
  },
  {
   "cell_type": "code",
   "execution_count": null,
   "outputs": [],
   "source": [
    "def start_traci():\n",
    "    traci.start([sumoBinary, \"-c\", \"data/fsa.sumocfg\",\n",
    "                                 \"--tripinfo-output\", \"tripinfo.xml\"])\n"
   ],
   "metadata": {
    "collapsed": false,
    "pycharm": {
     "name": "#%%\n"
    }
   }
  },
  {
   "cell_type": "code",
   "execution_count": null,
   "outputs": [],
   "source": [
    "def run():\n",
    "    \"\"\"execute the TraCI control loop\"\"\"\n",
    "    step = 0\n",
    "    # we start with phase 2 where EW has green\n",
    "    tl_id = \"cluster_1674752281_1674752283_403261502_403261510_403261862_403261865\"\n",
    "    traci.trafficlight.setPhase(tl_id, 2)\n",
    "    while traci.simulation.getMinExpectedNumber() > 0:\n",
    "        traci.simulationStep()\n",
    "        if traci.trafficlight.getPhase(tl_id) == 2:\n",
    "            # we are not already switching\n",
    "            if traci.inductionloop.getLastStepVehicleNumber(\"0\") > 0:\n",
    "                # there is a vehicle from the north, switch\n",
    "                traci.trafficlight.setPhase(tl_id, 3)\n",
    "            else:\n",
    "                # otherwise try to keep green for EW\n",
    "                traci.trafficlight.setPhase(tl_id, 2)\n",
    "        step += 1\n",
    "    traci.close()\n",
    "    sys.stdout.flush()\n"
   ],
   "metadata": {
    "collapsed": false,
    "pycharm": {
     "name": "#%%\n"
    }
   }
  },
  {
   "cell_type": "code",
   "execution_count": null,
   "outputs": [],
   "source": [
    "start_traci()"
   ],
   "metadata": {
    "collapsed": false,
    "pycharm": {
     "name": "#%%\n"
    }
   }
  },
  {
   "cell_type": "code",
   "execution_count": null,
   "outputs": [],
   "source": [
    "run()"
   ],
   "metadata": {
    "collapsed": false,
    "pycharm": {
     "name": "#%%\n"
    }
   }
  },
  {
   "cell_type": "code",
   "execution_count": null,
   "outputs": [],
   "source": [
    "traci.close()\n"
   ],
   "metadata": {
    "collapsed": false,
    "pycharm": {
     "name": "#%%\n"
    }
   }
  },
  {
   "cell_type": "code",
   "execution_count": 24,
   "outputs": [
    {
     "data": {
      "text/plain": "((<edge id=\"828140822\" from=\"6680844022\" to=\"3747825735\"/>,\n  <edge id=\"828140821\" from=\"3747825735\" to=\"5258659316\"/>,\n  <edge id=\"828140820\" from=\"5258659316\" to=\"4953774754\"/>,\n  <edge id=\"166825502\" from=\"4953774754\" to=\"7227957994\"/>,\n  <edge id=\"849619222#0\" from=\"7227957994\" to=\"1782569259\"/>,\n  <edge id=\"849619222#1\" from=\"1782569259\" to=\"3747825740\"/>,\n  <edge id=\"849619222#2\" from=\"3747825740\" to=\"1782569263\"/>,\n  <edge id=\"849619222#3\" from=\"1782569263\" to=\"3747825738\"/>,\n  <edge id=\"849619222#4\" from=\"3747825738\" to=\"403261835\"/>,\n  <edge id=\"849619222#5\" from=\"403261835\" to=\"403261839\"/>,\n  <edge id=\"849619222#6\" from=\"403261839\" to=\"407583449\"/>,\n  <edge id=\"849619222#7\" from=\"407583449\" to=\"405030246\"/>,\n  <edge id=\"849619223#0\" from=\"405030246\" to=\"407583484\"/>,\n  <edge id=\"34812970#0\" from=\"407583484\" to=\"407583475\"/>,\n  <edge id=\"371191305#3\" from=\"407583475\" to=\"407583478\"/>,\n  <edge id=\"267485837#0\" from=\"407583478\" to=\"4045165711\"/>,\n  <edge id=\"267485837#1\" from=\"4045165711\" to=\"3233655331\"/>,\n  <edge id=\"267485837#2\" from=\"3233655331\" to=\"407583481\"/>,\n  <edge id=\"-34658827#17\" from=\"407583481\" to=\"407583495\"/>,\n  <edge id=\"-34658827#16\" from=\"407583495\" to=\"405013719\"/>,\n  <edge id=\"-34658827#15\" from=\"405013719\" to=\"407583615\"/>,\n  <edge id=\"-34658827#14\" from=\"407583615\" to=\"403261918\"/>,\n  <edge id=\"-34658827#13\" from=\"403261918\" to=\"407583771\"/>,\n  <edge id=\"-34658827#12\" from=\"407583771\" to=\"405013714\"/>,\n  <edge id=\"-34658827#11\" from=\"405013714\" to=\"403261911\"/>,\n  <edge id=\"-34658827#10\" from=\"403261911\" to=\"407583432\"/>,\n  <edge id=\"-34658827#9\" from=\"407583432\" to=\"405013711\"/>,\n  <edge id=\"-34658827#8\" from=\"405013711\" to=\"403261899\"/>,\n  <edge id=\"-34658827#7\" from=\"403261899\" to=\"403261895\"/>,\n  <edge id=\"-34658827#6\" from=\"403261895\" to=\"405013745\"/>,\n  <edge id=\"-34658827#5\" from=\"405013745\" to=\"403261891\"/>,\n  <edge id=\"-34658827#4\" from=\"403261891\" to=\"cluster_405013696_407583410\"/>,\n  <edge id=\"-34658827#2\" from=\"cluster_405013696_407583410\" to=\"405013777\"/>,\n  <edge id=\"-34743927#3\" from=\"405013777\" to=\"407583403\"/>,\n  <edge id=\"34743936#0\" from=\"407583403\" to=\"cluster_405013814_7266354821\"/>,\n  <edge id=\"34743936#2\" from=\"cluster_405013814_7266354821\" to=\"405013821\"/>,\n  <edge id=\"34743936#3\" from=\"405013821\" to=\"405013815\"/>,\n  <edge id=\"-710712122#1\" from=\"405013815\" to=\"405013817\"/>,\n  <edge id=\"34743937#6\" from=\"405013817\" to=\"405013834\"/>,\n  <edge id=\"34743937#7\" from=\"405013834\" to=\"405013818\"/>,\n  <edge id=\"295504110#2\" from=\"405013818\" to=\"405013831\"/>,\n  <edge id=\"34743944\" from=\"405013831\" to=\"405013844\"/>,\n  <edge id=\"34714381#1\" from=\"405013844\" to=\"405013878\"/>,\n  <edge id=\"-34743953#7\" from=\"405013878\" to=\"405013879\"/>,\n  <edge id=\"-34743953#6\" from=\"405013879\" to=\"405013877\"/>,\n  <edge id=\"-34743953#5\" from=\"405013877\" to=\"405013876\"/>,\n  <edge id=\"-34743953#4\" from=\"405013876\" to=\"405013874\"/>,\n  <edge id=\"-34743953#3\" from=\"405013874\" to=\"405013873\"/>,\n  <edge id=\"-34743951#5\" from=\"405013873\" to=\"405013870\"/>,\n  <edge id=\"-34743951#4\" from=\"405013870\" to=\"403262129\"/>,\n  <edge id=\"-34658829#1\" from=\"403262129\" to=\"405013865\"/>,\n  <edge id=\"-34658829#0\" from=\"405013865\" to=\"403262124\"/>,\n  <edge id=\"34658830#0\" from=\"403262124\" to=\"403262168\"/>,\n  <edge id=\"34658830#1\" from=\"403262168\" to=\"cluster_408397180_6680844058\"/>,\n  <edge id=\"-34845602#5\" from=\"cluster_408397180_6680844058\" to=\"408397181\"/>,\n  <edge id=\"-34845602#4\" from=\"408397181\" to=\"408396947\"/>,\n  <edge id=\"-34845602#3\" from=\"408396947\" to=\"408397195\"/>,\n  <edge id=\"34845605#0\" from=\"408397195\" to=\"cluster_408397236_408397238\"/>,\n  <edge id=\"34845605#2\" from=\"cluster_408397236_408397238\" to=\"cluster_408397214_408397234\"/>,\n  <edge id=\"34845605#4\" from=\"cluster_408397214_408397234\" to=\"408397196\"/>,\n  <edge id=\"34845605#5\" from=\"408397196\" to=\"408397197\"/>,\n  <edge id=\"34845615#0\" from=\"408397197\" to=\"5413610743\"/>,\n  <edge id=\"34845615#1\" from=\"5413610743\" to=\"408397231\"/>,\n  <edge id=\"34845615#2\" from=\"408397231\" to=\"408397216\"/>,\n  <edge id=\"34845615#3\" from=\"408397216\" to=\"408397218\"/>,\n  <edge id=\"-34845611#2\" from=\"408397218\" to=\"408397209\"/>,\n  <edge id=\"-34845611#1\" from=\"408397209\" to=\"408397225\"/>,\n  <edge id=\"-34845611#0\" from=\"408397225\" to=\"408397208\"/>,\n  <edge id=\"-34845632#3\" from=\"408397208\" to=\"408397171\"/>,\n  <edge id=\"-34845600#2\" from=\"408397171\" to=\"408397246\"/>,\n  <edge id=\"-34845600#1\" from=\"408397246\" to=\"408397202\"/>,\n  <edge id=\"-34845600#0\" from=\"408397202\" to=\"cluster_403261971_7231139876\"/>,\n  <edge id=\"-34849533#4\" from=\"cluster_403261971_7231139876\" to=\"6309510345\"/>,\n  <edge id=\"-34849533#3\" from=\"6309510345\" to=\"408424345\"/>,\n  <edge id=\"-34849533#2\" from=\"408424345\" to=\"6261020010\"/>,\n  <edge id=\"-34849533#1\" from=\"6261020010\" to=\"4954025681\"/>,\n  <edge id=\"-505457287#2\" from=\"4954025681\" to=\"4954025680\"/>,\n  <edge id=\"-34845630#0\" from=\"4954025680\" to=\"408424339\"/>,\n  <edge id=\"-673749529#1\" from=\"408424339\" to=\"cluster_408424267_408424408\"/>,\n  <edge id=\"-34849504#32\" from=\"cluster_408424267_408424408\" to=\"408424271\"/>,\n  <edge id=\"-34849504#31\" from=\"408424271\" to=\"408424266\"/>,\n  <edge id=\"-34849504#30\" from=\"408424266\" to=\"408424275\"/>,\n  <edge id=\"-34849504#29\" from=\"408424275\" to=\"cluster_408424265_408424398\"/>,\n  <edge id=\"-34849504#27\" from=\"cluster_408424265_408424398\" to=\"408424396\"/>,\n  <edge id=\"-34849504#26\" from=\"408424396\" to=\"cluster_408424290_408424394\"/>,\n  <edge id=\"-34849504#24\" from=\"cluster_408424290_408424394\" to=\"cluster_4045220369_408424392\"/>,\n  <edge id=\"-34849504#22\" from=\"cluster_4045220369_408424392\" to=\"408424338\"/>,\n  <edge id=\"-34849504#21\" from=\"408424338\" to=\"cluster_408424302_408424367\"/>,\n  <edge id=\"-34849504#19\" from=\"cluster_408424302_408424367\" to=\"408424305\"/>,\n  <edge id=\"-34849504#18\" from=\"408424305\" to=\"408424308\"/>,\n  <edge id=\"-34849504#17\" from=\"408424308\" to=\"408424311\"/>,\n  <edge id=\"-34849504#16\" from=\"408424311\" to=\"408424264\"/>,\n  <edge id=\"-34849504#15\" from=\"408424264\" to=\"cluster_408424358_7242145274\"/>,\n  <edge id=\"-34849504#14\" from=\"cluster_408424358_7242145274\" to=\"408424316\"/>,\n  <edge id=\"-34849504#13\" from=\"408424316\" to=\"cluster_4045220501_408424319\"/>,\n  <edge id=\"-34849504#11\" from=\"cluster_4045220501_408424319\" to=\"408424322\"/>,\n  <edge id=\"-34849504#10\" from=\"408424322\" to=\"cluster_4045220505_408424325\"/>,\n  <edge id=\"-34849504#8\" from=\"cluster_4045220505_408424325\" to=\"cluster_4045220386_408424298\"/>,\n  <edge id=\"-34849504#6\" from=\"cluster_4045220386_408424298\" to=\"cluster_4045220512_408424327\"/>,\n  <edge id=\"-34849504#4\" from=\"cluster_4045220512_408424327\" to=\"408424299\"/>,\n  <edge id=\"-34849504#3\" from=\"408424299\" to=\"408424333\"/>,\n  <edge id=\"-34849504#2\" from=\"408424333\" to=\"cluster_408424328_4939445533\"/>,\n  <edge id=\"-34849504#0\" from=\"cluster_408424328_4939445533\" to=\"408424262\"/>,\n  <edge id=\"29199541#41\" from=\"408424262\" to=\"321186145\"/>,\n  <edge id=\"386698549#0\" from=\"321186145\" to=\"7233652333\"/>,\n  <edge id=\"386698549#1\" from=\"7233652333\" to=\"6680790738\"/>,\n  <edge id=\"849619230#0\" from=\"6680790738\" to=\"3900530460\"/>,\n  <edge id=\"849619230#1\" from=\"3900530460\" to=\"3900530471\"/>,\n  <edge id=\"386698548#0\" from=\"3900530471\" to=\"3900530475\"/>,\n  <edge id=\"386698548#1\" from=\"3900530475\" to=\"3900530483\"/>,\n  <edge id=\"386698548#2-AddedOnRampEdge\" from=\"3900530483\" to=\"386698548#2-AddedOnRampNode\"/>,\n  <edge id=\"386698548#2\" from=\"386698548#2-AddedOnRampNode\" to=\"4332355470\"/>,\n  <edge id=\"386698548#3\" from=\"4332355470\" to=\"6680766015\"/>,\n  <edge id=\"35377189\" from=\"6680766015\" to=\"6680766006\"/>,\n  <edge id=\"710580226#0\" from=\"6680766006\" to=\"6694033940\"/>,\n  <edge id=\"710580226#1\" from=\"6694033940\" to=\"4045267408\"/>,\n  <edge id=\"710580226#2\" from=\"4045267408\" to=\"4045267525\"/>,\n  <edge id=\"710580226#3\" from=\"4045267525\" to=\"4045267523\"/>,\n  <edge id=\"710580226#4\" from=\"4045267523\" to=\"4045267521\"/>,\n  <edge id=\"710580226#5\" from=\"4045267521\" to=\"4045267518\"/>,\n  <edge id=\"710580226#6\" from=\"4045267518\" to=\"4045267515\"/>,\n  <edge id=\"710580226#7\" from=\"4045267515\" to=\"4045267514\"/>,\n  <edge id=\"710580226#8\" from=\"4045267514\" to=\"4045267417\"/>,\n  <edge id=\"710580226#9\" from=\"4045267417\" to=\"4045267618\"/>,\n  <edge id=\"402093905#0\" from=\"4045267618\" to=\"4045267620\"/>,\n  <edge id=\"-402093905#0\" from=\"4045267620\" to=\"4045267618\"/>),\n 8150.47)"
     },
     "execution_count": 24,
     "metadata": {},
     "output_type": "execute_result"
    }
   ],
   "source": [
    "ev_from = random.choice(net.getEdges())\n",
    "ev_to = random.choice(net.getEdges())\n",
    "\n",
    "path = net.getShortestPath(ev_from, ev_to)\n",
    "path"
   ],
   "metadata": {
    "collapsed": false,
    "pycharm": {
     "name": "#%%\n"
    }
   }
  },
  {
   "cell_type": "code",
   "execution_count": 25,
   "outputs": [],
   "source": [
    "from enum import Enum\n",
    "class EventVehicleType(Enum):\n",
    "    EMERGENCY = Vehicle(guiShape='emergency', id='v_emergency', maxSpeed=30)\n",
    "    FIRE = Vehicle(guiShape='firebrigade', id='v_firebrigade', maxSpeed=28, length=7)\n",
    "    POLICE = Vehicle(guiShape='police', id='v_police', maxSpeed=28)"
   ],
   "metadata": {
    "collapsed": false,
    "pycharm": {
     "name": "#%%\n"
    }
   }
  },
  {
   "cell_type": "code",
   "execution_count": 35,
   "outputs": [
    {
     "data": {
      "text/plain": "'v_emergency'"
     },
     "execution_count": 35,
     "metadata": {},
     "output_type": "execute_result"
    }
   ],
   "source": [],
   "metadata": {
    "collapsed": false,
    "pycharm": {
     "name": "#%%\n"
    }
   }
  }
 ],
 "metadata": {
  "kernelspec": {
   "display_name": "Python 3",
   "language": "python",
   "name": "python3"
  },
  "language_info": {
   "codemirror_mode": {
    "name": "ipython",
    "version": 2
   },
   "file_extension": ".py",
   "mimetype": "text/x-python",
   "name": "python",
   "nbconvert_exporter": "python",
   "pygments_lexer": "ipython2",
   "version": "2.7.6"
  }
 },
 "nbformat": 4,
 "nbformat_minor": 0
}